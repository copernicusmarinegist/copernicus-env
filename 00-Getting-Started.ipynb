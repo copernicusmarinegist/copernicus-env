{
 "cells": [
  {
   "cell_type": "markdown",
   "metadata": {},
   "source": [
    "![header](https://i.imgur.com/I4ake6d.jpg \"CRTS-DEC2018\")"
   ]
  },
  {
   "cell_type": "markdown",
   "metadata": {},
   "source": [
    "# Table of Content\n",
    "---\n",
    "- [Introduction](#CREATE-A-COPERNICUS-MARINE-ACCOUNT)\n",
    "<br><br>\n",
    "- [Prerequisite](#Some-modules-import-for-pedagogical-reasons)\n",
    "<br><br>\n",
    "- [WebServices](#WebService-1---Explore-Copernicus-Marine-Open-Catalogue-and-DataHub)\n",
    "     - Copernicus Marine Catalogue & OpenSearch\n",
    "     - Copernicus Marine Products\n",
    "     - Copernicus Marine Viewer\n",
    "     - Copernicus Marine Scientific Documentations\n",
    "     - Copernicus Marine Interactive Download Interface\n",
    "     - Copernicus Marine Downloader (API-Desktop Client)\n",
    "     - Copernicus Marine Advanced Python Scripts\n",
    "<br><br>\n",
    "- [How to check the content of NetCDF file and quickly plot data?](#How-to-check-the-content-of-NetCDF-file-and-quickly-plot-data)\n",
    "     - Exploring NetCDF file content\n",
    "     - Checking NetCDF Metadata\n",
    "     - Checking NetCDF Data\n",
    "     - Performing some computations on marine variables\n",
    "     - Creating maps of computed marine variables\n",
    "<br><br>\n",
    "- [How to learn how these marine data are used ? How to get inspired?](#How-to-learn-how-these-marine-data-are-used-?-How-to-get-inspired?)<br><br>\n",
    "- [Exchange and share on Copernicus Marine Forum](#Exchange-and-share-on-Copernicus-Marine-Forum)<br><br>\n",
    "- [How to request help and contact the Copernicus Marine Support Service?](#Sometimes-you-just-need-a-little-help)"
   ]
  },
  {
   "cell_type": "markdown",
   "metadata": {},
   "source": [
    "![Theme](https://i.imgur.com/1n10pBV.png \"Copernicus Marine WebServices and Python\")"
   ]
  },
  {
   "cell_type": "markdown",
   "metadata": {},
   "source": [
    "<h1><center><span style=\"color: #006699;\"> Why should we learn how to use Python to call <br> Copernicus Marine WebServices:</span><br></center> \n",
    "\n",
    "<ul><span style=\"color: #006699;\"> \n",
    "  <li> Exploring Catalogue and OpenHub</li>\n",
    "  <li> Visualizing In Situ, Satellite and Model Products</li>\n",
    "  <li> Downloading whole datasets or subset thanks to Extraction Service</li>\n",
    "  <li> Computing, Plotting Data </li>\n",
    "  <li> And many more (see <a href=\"https://atlas.mercator-ocean.fr/s/n96TPr4cJsQNeKA\"> Advanced Tutorials</a>)... </li>\n",
    "</span></ul>\n",
    "</h1>"
   ]
  },
  {
   "cell_type": "markdown",
   "metadata": {},
   "source": [
    "<div class=\"alert alert-block alert-info\">\n",
    "\n",
    "<center><h1><b>Recommendation:</b></h1></center>\n",
    "<center><h1><b>CREATE A COPERNICUS MARINE ACCOUNT</b></h1></center>\n",
    "\n",
    "<b>Tips</b>: You can execute the below cell and request freely your copernicus marine account"
   ]
  },
  {
   "cell_type": "markdown",
   "metadata": {},
   "source": [
    "![Why Python and CMEMS](https://i.imgur.com/ClJrjij.png \"Why Copernicus Marine WebServices and Python\")"
   ]
  },
  {
   "cell_type": "markdown",
   "metadata": {},
   "source": [
    "<div class=\"alert alert-block alert-info\">\n",
    "    \n",
    "<b>Prerequisites to attend Copernicus Marine Practical Session</b>\n",
    "\n",
    "---\n",
    "\n",
    "Read at first the [LETS GET STARTED](http://marine.copernicus.eu/getting-started/) websection, which goes through:\n",
    "\n",
    "- Copernicus Marine Product **Standard Output (file format)** is **NetCDF (.nc)**. If you aren’t familiar with this data format, the **[netCDF FAQ](http://www.unidata.ucar.edu/software/netcdf/docs/faq.html#What-Is-netCDF)** is a good place to start.\n",
    "<br><br>\n",
    "- Can you provide me with an [**Overview** of **available Products**](http://marine.copernicus.eu/faq/can-you-provide-me-with-an-overview-of-the-cmems-catalogue-of-products/?idpage=169) in **Catalogue**?\n",
    "<br><br>\n",
    "- How can I access the [**Technical** and **Scientific documentations**](http://marine.copernicus.eu/faq/how-can-i-access-the-documentation-associated-to-a-product/?idpage=169) associated to a **Product**?\n",
    "<br><br>\n",
    "- How can I get more information regarding [**Scientific Quality**](http://marine.copernicus.eu/faq/how-can-i-get-more-information-regarding-quality-of-products/?idpage=169) of **Products**?\n",
    "<br><br>\n",
    "- How to use the **online web-GIS tool** to [**Georeference**, **Visualize** and **Preview**](http://marine.copernicus.eu/faq/how-to-quickly-visualize-a-product/?idpage=169) a Product **WITHOUT having to download data**?\n",
    "<br><br>\n",
    "- How to [**Download**](http://marine.copernicus.eu/faq/how-to-download-cmems-products/?idpage=169) a **Product or Dataset**?\n",
    "<br><br>\n",
    "- What are the [**Advantages**](http://marine.copernicus.eu/faq/what-are-the-advantages-of-each-cmems-download-mechanism/?idpage=169) of each Copernicus Marine [**Data Access Options**?](http://marine.copernicus.eu/faq/what-are-the-advantages-of-each-cmems-download-mechanism/?idpage=169)<br><br>\n",
    "- Can I [**Subscribe** to a **Machine-to-Machine (M2M) communication**](http://marine.copernicus.eu/faq/can-i-automate-downloads-of-cmems-products/?idpage=169) to **Automate Products Retrieval**??\n",
    "<br><br>\n",
    "- What are the [**MOTU**](http://marine.copernicus.eu/faq/what-are-the-motu-and-python-requirements/?idpage=169) and [**Python requirements**](http://marine.copernicus.eu/faq/what-are-the-motu-and-python-requirements/?idpage=169)?\n",
    "  - TIPS : Python is alreadly installed and we'll see in a minute how to retrieve the motu-client  <br>\n",
    "  <br>\n",
    "- How [**to write** and **run the script**](http://marine.copernicus.eu/faq/how-to-write-and-run-the-script-to-download-cmems-products-through-subset-or-direct-download-mechanisms/?idpage=169) to download CMEMS products through **Subsetter (SUB)** or **Direct download mechanisms (DGF)**?\n",
    "  <br>\n",
    "  <br>\n",
    "- Is a **download** request [**limited** in **data size**](http://marine.copernicus.eu/faq/is-a-download-limited-in-terms-of-volume/?idpage=169)?\n",
    "  <br>\n",
    "  <br>\n",
    "- How to **overcome such limit**?\n",
    "  - [Example 1 HelpCenter](http://marine.copernicus.eu/faq/how-to-download-a-large-amount-of-data-using-subset-or-direct-download-mechanisms/?idpage=169)\n",
    "  - [Example 2 Open Forum](http://forum.marine.copernicus.eu/discussion/202/how-to-download-a-large-amount-of-cmems-data-how-to-perform-a-loop-on-dates-new#Item_1)\n",
    "  <br>\n",
    "  <br>\n",
    "- Can you give a [**few examples of command lines**](http://marine.copernicus.eu/faq/can-you-give-a-few-examples-of-command-lines-to-download/?idpage=169) to submit **extraction request** and **dataset subset download**?\n",
    "  <br>\n",
    "  <br>"
   ]
  },
  {
   "cell_type": "markdown",
   "metadata": {},
   "source": [
    "# Some modules import for pedagogical reasons\n",
    "---"
   ]
  },
  {
   "cell_type": "code",
   "execution_count": 1,
   "metadata": {},
   "outputs": [
    {
     "name": "stdout",
     "output_type": "stream",
     "text": [
      "Your Python is executed from: /srv/conda/bin/python\n",
      "Your Python version is: 3.7.3 | packaged by conda-forge | (default, Mar 27 2019, 23:01:00) \n",
      "[GCC 7.3.0]\n",
      "The Semantic Versioning is:  sys.version_info(major=3, minor=7, micro=3, releaselevel='final', serial=0)\n"
     ]
    }
   ],
   "source": [
    "import sys\n",
    "print(\"Your Python is executed from:\",  sys.executable)\n",
    "print(\"Your Python version is:\", sys.version)\n",
    "print(\"The Semantic Versioning is: \" , sys.version_info)"
   ]
  },
  {
   "cell_type": "code",
   "execution_count": 15,
   "metadata": {},
   "outputs": [],
   "source": [
    "from IPython.display import IFrame, HTML, YouTubeVideo\n",
    "try:\n",
    "    from urllib.parse import urlparse, urlencode\n",
    "    from urllib.request import urlopen, Request\n",
    "    from urllib.error import HTTPError\n",
    "    import urllib\n",
    "except ImportError:\n",
    "    import urllib\n",
    "    from urlparse import urlparse\n",
    "    from urllib import urlencode\n",
    "    from urllib2 import urlopen, Request, HTTPError"
   ]
  },
  {
   "cell_type": "markdown",
   "metadata": {
    "slideshow": {
     "slide_type": "-"
    }
   },
   "source": [
    "# WebService 1 - Explore Copernicus Marine Open Catalogue and DataHub\n",
    "---"
   ]
  },
  {
   "cell_type": "markdown",
   "metadata": {
    "slideshow": {
     "slide_type": "-"
    }
   },
   "source": [
    "- #### Graphical User Interface (GUI)"
   ]
  },
  {
   "cell_type": "code",
   "execution_count": 3,
   "metadata": {},
   "outputs": [
    {
     "data": {
      "image/jpeg": "[encoded data removed]",
      "text/html": [
       "\n",
       "        <iframe\n",
       "            width=\"560\"\n",
       "            height=\"315\"\n",
       "            src=\"https://www.youtube.com/embed/4Hnyv61x3wM\"\n",
       "            frameborder=\"0\"\n",
       "            allowfullscreen\n",
       "        ></iframe>\n",
       "        "
      ],
      "text/plain": [
       "<IPython.lib.display.YouTubeVideo at 0x7f9198169198>"
      ]
     },
     "execution_count": 3,
     "metadata": {},
     "output_type": "execute_result"
    }
   ],
   "source": [
    "# Display HOWTO Video about DISCOVERING and SEARCHING for Copernicus Marine Product within the notebook\n",
    "YouTubeVideo('4Hnyv61x3wM', width=\"560\", height=\"315\")"
   ]
  },
  {
   "cell_type": "markdown",
   "metadata": {
    "slideshow": {
     "slide_type": "-"
    }
   },
   "source": [
    "# WebService 2 - Display Product Description(s) - All metadata\n",
    "---"
   ]
  },
  {
   "cell_type": "markdown",
   "metadata": {},
   "source": [
    "The below tables will be used to consume web services. They replace \"human click\" made on the Interactive Catalogue and Download Interface. They are meant to make sure that attendees of training are on the same level of information."
   ]
  },
  {
   "cell_type": "code",
   "execution_count": 4,
   "metadata": {},
   "outputs": [],
   "source": [
    "# product_id can be found by exploring the Copernicus Marine Catalogue\n",
    "product_id = \"GLOBAL_ANALYSIS_FORECAST_PHY_001_024\"\n",
    "\n",
    "# Example of several product_ids declaration using a table\n",
    "pid_table = [\"GLOBAL_ANALYSIS_FORECAST_PHY_001_024\", \\\n",
    "             \"GLOBAL_ANALYSIS_FORECAST_PHYS_001_015\", \\\n",
    "             \"MEDSEA_ANALYSIS_FORECAST_PHY_006_013\", \\\n",
    "             \"MEDSEA_ANALYSIS_FORECAST_BIO_006_014\", \\\n",
    "             \"IBI_ANALYSIS_FORECAST_PHYS_005_001\", \\\n",
    "             \"IBI_ANALYSIS_FORECAST_BIO_005_004\", \\\n",
    "             \"IBI_ANALYSIS_FORECAST_WAV_005_005\", \\\n",
    "             \"IBI_REANALYSIS_BIO_005_003\", \\\n",
    "             \"OCEANCOLOUR_GLO_CHL_L4_NRT_OBSERVATIONS_009_033\"]\n",
    "\n",
    "# Example of several product_ids declaration using a dictionary \n",
    "pid_dict = {'GLOBAL_ANALYSIS_FORECAST_PHY_001_024':'eec7a997-c57e-4dfa-9194-4c72154f5cc5', \\\n",
    "            'GLOBAL_ANALYSIS_FORECAST_PHYS_001_015':'67b97b94-87fb-4731-8170-26c2b019b979', \\\n",
    "            'MEDSEA_ANALYSIS_FORECAST_PHY_006_013':'66fb61fa-c911-4f7e-aec1-959627bbf2b3', \\\n",
    "            'MEDSEA_ANALYSIS_FORECAST_BIO_006_014':'262cacd8-c4b4-4ca1-8721-2b586361979c', \\\n",
    "            'IBI_ANALYSIS_FORECAST_PHYS_005_001':'a54ac0ea-b4f9-48cb-ae55-f84c78848a28', \\\n",
    "            'IBI_ANALYSIS_FORECAST_BIO_005_004':'5431a932-52e0-4dc8-bc35-0f4ada2cf048', \\\n",
    "            'IBI_ANALYSIS_FORECAST_WAV_005_005':'3bbb91cd-798c-4784-9327-e2b0f7500165', \\\n",
    "            'IBI_REANALYSIS_BIO_005_003':'5f98825b-2f9a-411c-81fc-5e82d1400baa',\n",
    "            'OCEANCOLOUR_GLO_CHL_L4_NRT_OBSERVATIONS_009_033':'bc19d37d-fa0d-4035-b80e-33a15e7e29e4'}"
   ]
  },
  {
   "cell_type": "markdown",
   "metadata": {},
   "source": [
    "Product Identiers and corresponding tables are now set. We are ready to consume web services."
   ]
  },
  {
   "cell_type": "markdown",
   "metadata": {
    "slideshow": {
     "slide_type": "-"
    }
   },
   "source": [
    "# WebService 3 - Visualize Products\n",
    "---"
   ]
  },
  {
   "cell_type": "markdown",
   "metadata": {
    "slideshow": {
     "slide_type": "-"
    }
   },
   "source": [
    "- #### Graphical User Interface (GUI) for End-Users"
   ]
  },
  {
   "cell_type": "code",
   "execution_count": 8,
   "metadata": {},
   "outputs": [
    {
     "data": {
      "image/jpeg": "[encoded data removed]",
      "text/html": [
       "\n",
       "        <iframe\n",
       "            width=\"560\"\n",
       "            height=\"315\"\n",
       "            src=\"https://www.youtube.com/embed/gPj3H4AZhYo\"\n",
       "            frameborder=\"0\"\n",
       "            allowfullscreen\n",
       "        ></iframe>\n",
       "        "
      ],
      "text/plain": [
       "<IPython.lib.display.YouTubeVideo at 0x7f919811a978>"
      ]
     },
     "execution_count": 8,
     "metadata": {},
     "output_type": "execute_result"
    }
   ],
   "source": [
    "# Display HOWTO Video about VISUALIZING Copernicus Marine Product within the notebook\n",
    "YouTubeVideo('gPj3H4AZhYo', width=\"560\", height=\"315\")"
   ]
  },
  {
   "cell_type": "markdown",
   "metadata": {
    "slideshow": {
     "slide_type": "-"
    }
   },
   "source": [
    "# WebService 4 - Browse Scientific Documentations\n",
    "---"
   ]
  },
  {
   "cell_type": "markdown",
   "metadata": {},
   "source": [
    "Let's check at first the list of all Ocean Analysis & Forecast Temperature Products available in the Copernicus Marine catalogue. We are going to focus actions on marine information provided by numerical model.\n",
    "[...]"
   ]
  },
  {
   "cell_type": "markdown",
   "metadata": {},
   "source": [
    "Now, let's check the CopernicusMarine Product Documentations of each products."
   ]
  },
  {
   "cell_type": "markdown",
   "metadata": {},
   "source": [
    "<div class=\"alert alert-block alert-info\">\n",
    "\n",
    "**TIPS :** More details about how to access scientific documentations of CopernicusMarine Product : http://marine.copernicus.eu/faq/how-can-i-access-the-documentation-associated-to-a-product/?idpage=169\n",
    "\n",
    "Those documents are helpful to decide which products are the more relevant for your needs."
   ]
  },
  {
   "cell_type": "code",
   "execution_count": 23,
   "metadata": {
    "nbpresent": {
     "id": "40b0f66b-5564-4076-b566-018638b61c69"
    }
   },
   "outputs": [],
   "source": [
    "# Example for browsing Product User Manual (PUM)\n",
    "RESOURCES = 'https://cmems-resources.cls.fr/documents/'\n",
    "PUM_library = 'PUM/CMEMS-'\n",
    "PUM_table = [\"GLO-PUM-001-024\", \"IBI-PUM-005-001\"]"
   ]
  },
  {
   "cell_type": "markdown",
   "metadata": {},
   "source": [
    "Let's display `Product User Manual (PUM)` of the GLOBAL OCEAN 1/12° PHYSICS ANALYSIS AND FORECAST UPDATED DAILY product whose product identifier is `GLOBAL_ANALYSIS_FORECAST_PHY_001_024`."
   ]
  },
  {
   "cell_type": "code",
   "execution_count": 21,
   "metadata": {},
   "outputs": [
    {
     "data": {
      "text/html": [
       "\n",
       "        <iframe\n",
       "            width=\"800\"\n",
       "            height=\"500\"\n",
       "            src=\"https://cmems-resources.cls.fr/documents/PUM/CMEMS-GLO-PUM-001-024.pdf\"\n",
       "            frameborder=\"0\"\n",
       "            allowfullscreen\n",
       "        ></iframe>\n",
       "        "
      ],
      "text/plain": [
       "<IPython.lib.display.IFrame at 0x7f9198169240>"
      ]
     },
     "execution_count": 21,
     "metadata": {},
     "output_type": "execute_result"
    }
   ],
   "source": [
    "IFrame((RESOURCES + PUM_library + PUM_table[0] + '.pdf'), width=800, height=500)"
   ]
  },
  {
   "cell_type": "markdown",
   "metadata": {},
   "source": [
    "Then, let's display Product User Manual of the ATLANTIC-IBERIAN BISCAY IRISH- OCEAN PHYSICS ANALYSIS AND FORECAST product whose product identifier is `IBI_ANALYSIS_FORECAST_PHYS_005_001`."
   ]
  },
  {
   "cell_type": "code",
   "execution_count": 22,
   "metadata": {},
   "outputs": [
    {
     "data": {
      "text/html": [
       "\n",
       "        <iframe\n",
       "            width=\"800\"\n",
       "            height=\"500\"\n",
       "            src=\"https://cmems-resources.cls.fr/documents/PUM/CMEMS-IBI-PUM-005-001.pdf\"\n",
       "            frameborder=\"0\"\n",
       "            allowfullscreen\n",
       "        ></iframe>\n",
       "        "
      ],
      "text/plain": [
       "<IPython.lib.display.IFrame at 0x7f9198169c50>"
      ]
     },
     "execution_count": 22,
     "metadata": {},
     "output_type": "execute_result"
    }
   ],
   "source": [
    "IFrame((PUM_library + PUM_table[1] + '.pdf'), width=800, height=500)"
   ]
  },
  {
   "cell_type": "markdown",
   "metadata": {},
   "source": [
    "Let's display `QUality Information Document (QUID)` of the GLOBAL OCEAN 1/12° PHYSICS ANALYSIS AND FORECAST UPDATED DAILY product whose product identifier is `GLOBAL_ANALYSIS_FORECAST_PHY_001_024`."
   ]
  },
  {
   "cell_type": "code",
   "execution_count": 25,
   "metadata": {
    "nbpresent": {
     "id": "40b0f66b-5564-4076-b566-018638b61c69"
    }
   },
   "outputs": [],
   "source": [
    "# Example for browsing QUality Information Document (QUID)\n",
    "QUID_library = \"QUID/CMEMS-\"\n",
    "QUID_table = [\"GLO-QUID-001-024\", \"IBI-QUID-005-001\"]"
   ]
  },
  {
   "cell_type": "code",
   "execution_count": 26,
   "metadata": {},
   "outputs": [
    {
     "data": {
      "text/html": [
       "\n",
       "        <iframe\n",
       "            width=\"800\"\n",
       "            height=\"500\"\n",
       "            src=\"https://cmems-resources.cls.fr/documents/QUID/CMEMS-GLO-QUID-001-024.pdf\"\n",
       "            frameborder=\"0\"\n",
       "            allowfullscreen\n",
       "        ></iframe>\n",
       "        "
      ],
      "text/plain": [
       "<IPython.lib.display.IFrame at 0x7f919809efd0>"
      ]
     },
     "execution_count": 26,
     "metadata": {},
     "output_type": "execute_result"
    }
   ],
   "source": [
    "IFrame((RESOURCES + QUID_library + QUID_table[0]+ '.pdf'), width=800, height=500)"
   ]
  },
  {
   "cell_type": "markdown",
   "metadata": {},
   "source": [
    "Then, let's display `QUality Information Document (QUID)` of the ATLANTIC-IBERIAN BISCAY IRISH- OCEAN PHYSICS ANALYSIS AND FORECAST product whose product identifier is `IBI_ANALYSIS_FORECAST_PHYS_005_001`."
   ]
  },
  {
   "cell_type": "code",
   "execution_count": 27,
   "metadata": {},
   "outputs": [
    {
     "data": {
      "text/html": [
       "\n",
       "        <iframe\n",
       "            width=\"800\"\n",
       "            height=\"500\"\n",
       "            src=\"https://cmems-resources.cls.fr/documents/QUID/CMEMS-IBI-QUID-005-001.pdf\"\n",
       "            frameborder=\"0\"\n",
       "            allowfullscreen\n",
       "        ></iframe>\n",
       "        "
      ],
      "text/plain": [
       "<IPython.lib.display.IFrame at 0x7f91980ab2b0>"
      ]
     },
     "execution_count": 27,
     "metadata": {},
     "output_type": "execute_result"
    }
   ],
   "source": [
    "IFrame((RESOURCES + QUID_library + QUID_table[1]+ '.pdf'), width=800, height=500)"
   ]
  },
  {
   "cell_type": "markdown",
   "metadata": {},
   "source": [
    "<div class=\"alert alert-block alert-info\">\n",
    "\n",
    "**Conclusion**:\n",
    "\n",
    "---\n",
    "We selected both CopernicuMarine GLOBAL & IBI ANALYSIS and FORECAST Products and we want to **download only daily mean temperature** over a **small boundingbox**: the maroccan ocean&sea."
   ]
  },
  {
   "cell_type": "markdown",
   "metadata": {},
   "source": [
    "In this example, we'll constraint our script to download two model products, referenced below :\n",
    "\n",
    "| Model | CMEMS ID | Product Sheet    \n",
    "|------|------|------\n",
    "|MERCATOR|GLOBAL_ANALYSIS_FORECAST_PHY_001_024|http://marine.copernicus.eu/services-portfolio/access-to-products/?option=com_csw&view=details&product_id=GLOBAL_ANALYSIS_FORECAST_PHY_001_024\n",
    "|PUERTOS|IBI_ANALYSIS_FORECAST_PHYS_005_001|http://marine.copernicus.eu/services-portfolio/access-to-products/?option=com_csw&view=details&product_id=IBI_ANALYSIS_FORECAST_PHYS_005_001\n",
    "\n",
    "\n",
    "\n"
   ]
  },
  {
   "cell_type": "markdown",
   "metadata": {},
   "source": [
    "<div class=\"alert alert-block alert-info\">\n",
    "\n",
    "**TIPS :** As you can see, a **Product Description** may be queried using either the GUI (Graphical User Interface) OR an XML file. \n",
    "\n",
    "- For GUI response in a web browser :\n",
    "`http://marine.copernicus.eu/services-portfolio/access-to-products/?option=com_csw&view=details&product_id=${cmems_id}`\n",
    "\n",
    "- For XML response in a file to download :\n",
    "`http://marine.copernicus.eu/services-portfolio/access-to-products/?option=com_csw&view=details&product_id=${cmems_id}&format=xml`"
   ]
  },
  {
   "cell_type": "markdown",
   "metadata": {
    "slideshow": {
     "slide_type": "-"
    }
   },
   "source": [
    "# WebService 5 - Download Products\n",
    "---"
   ]
  },
  {
   "cell_type": "code",
   "execution_count": 9,
   "metadata": {},
   "outputs": [
    {
     "data": {
      "image/jpeg": "[encoded data removed]",
      "text/html": [
       "\n",
       "        <iframe\n",
       "            width=\"560\"\n",
       "            height=\"315\"\n",
       "            src=\"https://www.youtube.com/embed/joQG3z6_Vpg\"\n",
       "            frameborder=\"0\"\n",
       "            allowfullscreen\n",
       "        ></iframe>\n",
       "        "
      ],
      "text/plain": [
       "<IPython.lib.display.YouTubeVideo at 0x7f91981c2e80>"
      ]
     },
     "execution_count": 9,
     "metadata": {},
     "output_type": "execute_result"
    }
   ],
   "source": [
    "# Display HOWTO Video about DISCOVERING and SEARCHING for Copernicus Marine Product within the notebook\n",
    "YouTubeVideo('joQG3z6_Vpg', width=\"560\", height=\"315\")"
   ]
  },
  {
   "cell_type": "markdown",
   "metadata": {},
   "source": [
    "CopernicusMarine Download WebServices allow users to download products using different protocols:\n",
    " - HTTPS/HTTP (**MOTU**)\n",
    "   - **Subsetter :** The _Subsetter_ allows you to subset the data, and should be used if you wish to download a small part of the total dataset.\n",
    "   - **Direct Get File:** The _Direct Get File_ directly transfers the file as stored on the server. It is able to deliver compressed data and should be used if you wish to download larger datasets.\n",
    "   <br><br>\n",
    "   \n",
    " - FTP\n",
    "   - The *FTP download* allows to download an entire dataset directly from the FTP server at the supply center."
   ]
  },
  {
   "cell_type": "markdown",
   "metadata": {},
   "source": [
    "<div class=\"alert alert-block alert-warning\">\n",
    "\n",
    "\n",
    "Since FTP is relatively well-known and easy to integrate (no cookies required for authentication), we will **focus** this **notebook ONLY** on dealing with **MOTU SERVERS**."
   ]
  },
  {
   "cell_type": "markdown",
   "metadata": {},
   "source": [
    "<div class=\"alert alert-block alert-info\">\n",
    "\n",
    "\n",
    "**NOTE:**<br>\n",
    "\n",
    "---\n",
    "You can discover \"How to **download**, **plot** and **process IN SITU products** hosted on Copernicus Marine **FTP SERVERS**, using PYTHON\" in [these jupyter notebooks](https://github.com/CopernicusMarineInsitu/INSTACTraining-Phase2UPDATE)."
   ]
  },
  {
   "cell_type": "markdown",
   "metadata": {},
   "source": [
    "Let's get into more details about each web service."
   ]
  },
  {
   "cell_type": "markdown",
   "metadata": {
    "nbpresent": {
     "id": "8ae406b7-1c7a-42b1-a71a-10ea98286f85"
    },
    "slideshow": {
     "slide_type": "slide"
    }
   },
   "source": [
    "## How to download a large amount of Copernicus Ocean Data (e.g. Temperature)\n",
    "---"
   ]
  },
  {
   "cell_type": "markdown",
   "metadata": {},
   "source": [
    "<div class=\"alert alert-block alert-success\">\n",
    "\n",
    "**Downloading the piece of data (subset of netCDF file)**"
   ]
  },
  {
   "cell_type": "markdown",
   "metadata": {},
   "source": [
    "![with-view-script-enabled](https://i.imgur.com/akzVnFt.png \"With View Script Enabled\")"
   ]
  },
  {
   "cell_type": "markdown",
   "metadata": {},
   "source": [
    "<center>Fig.11.2 : This picture shows the syntax of parameters to insert in scripts.<center>"
   ]
  },
  {
   "cell_type": "markdown",
   "metadata": {},
   "source": [
    "It should like the following:<br><br>\n",
    "`python <PATH_TO_MOTUCLIENT_DIR>/motu-client.py --user <USERNAME> --pwd <PASSWORD> --motu http://nrt.cmems-du.eu/motu-web/Motu --service-id IBI_ANALYSIS_FORECAST_PHYS_005_001-TDS --product-id dataset-ibi-analysis-forecast-phys-005-001-daily --longitude-min -19 --longitude-max 5.000736236572266 --latitude-min 26 --latitude-max 40 --date-min \"2018-12-22 12:00:00\" --date-max \"2018-12-22 12:00:00\" --depth-min 0.493 --depth-max 0.4942 --variable thetao --variable so --out-dir <OUTPUT_DIR> --out-name <OUTPUT_FILENAME>`"
   ]
  },
  {
   "cell_type": "markdown",
   "metadata": {},
   "source": [
    "<div class=\"alert alert-block alert-info\">\n",
    "\n",
    "**TIPS :** Running the above command line in a cell (or your terminal) will result in submitting a job to the server to create a piece of dataset and request its download as soon as it's ready.\n",
    "\n",
    "**Note**: Of course, you need to replace `<VALUE>` according to your preferences before running it."
   ]
  },
  {
   "cell_type": "markdown",
   "metadata": {},
   "source": [
    "<div class=\"alert alert-block alert-success\">\n",
    "\n",
    "\n",
    "### ACTION 12\n",
    "\n",
    "**Creating an advanced script to subset and download NetCDF files by years**\n",
    "\n",
    "Create a (python) script to download a large amount of data, year by years."
   ]
  },
  {
   "cell_type": "markdown",
   "metadata": {},
   "source": [
    "<div class=\"alert alert-block alert-success\">\n",
    "\n",
    "\n",
    "### ACTION 12.1\n",
    "\n",
    "**Import Modules**"
   ]
  },
  {
   "cell_type": "markdown",
   "metadata": {},
   "source": [
    "<div class=\"alert alert-block alert-success\">\n",
    "\n",
    "\n",
    "### ACTION 12.2\n",
    "\n",
    "**Set General Parameters**"
   ]
  },
  {
   "cell_type": "markdown",
   "metadata": {},
   "source": [
    "\n",
    "####  [General Parameters]\n",
    "\n",
    "Usually, you should modify the below parameters with your local values.\n",
    "\n",
    "_NOT required for the machine prepared by the staff for this training event_ but necessarely if you want to use this script from another machine. <br>\n",
    "<br>You would have to change :\n",
    "- your username (log_cmems)\n",
    "- your password (pwd_cmems)\n",
    "- path to output directory to store the output netcdf file (marine data)\n",
    "\n",
    "**Important**: you can execute the below cell as is since it's already well configured."
   ]
  },
  {
   "cell_type": "markdown",
   "metadata": {},
   "source": [
    "<div class=\"alert alert-block alert-success\">\n",
    "\n",
    "\n",
    "### ACTION 12.3\n",
    "\n",
    "**Set Ocean Product(s) Parameters**"
   ]
  },
  {
   "cell_type": "markdown",
   "metadata": {},
   "source": [
    "####  [Product Parameters]\n",
    "\n",
    "Then we create a dictionary (kind of table) to set `product parameters` such as:\n",
    "- product identifier\n",
    "- dataset identifier\n",
    "- variable(s)\n",
    "- and motu server. "
   ]
  },
  {
   "cell_type": "markdown",
   "metadata": {},
   "source": [
    "<div class=\"alert alert-block alert-success\">\n",
    "\n",
    "\n",
    "### ACTION 12.4\n",
    "\n",
    "**Set Data Extraction Parameters**"
   ]
  },
  {
   "cell_type": "markdown",
   "metadata": {},
   "source": [
    "\n",
    "### Parameters of the request to download SEVERAL YEARS with daily means\n",
    "---\n",
    "\n",
    "####  [Data Extraction Parameters]\n",
    "\n",
    "Usually, you should modify the below parameters with your own extraction settings values to get the piece of data of your interest.\n",
    "\n",
    "You can edit these values to change :\n",
    "- the timerange and/or \n",
    "- the geographical area and/or \n",
    "- the depth.\n",
    "\n",
    "**Important**: you can execute the below cell as is since it's already configured to do an extraction over Marocco ocean&sea for years 2017 and 2018."
   ]
  },
  {
   "cell_type": "markdown",
   "metadata": {},
   "source": [
    "<div class=\"alert alert-block alert-success\">\n",
    "\n",
    "\n",
    "### ACTION 12.5\n",
    "\n",
    "**Starting scripts to subset and download NetCDF files by year**"
   ]
  },
  {
   "cell_type": "markdown",
   "metadata": {},
   "source": [
    "<div class=\"alert alert-block alert-warning\">\n",
    "\n",
    "<center><b>Main Program</b></center>\n",
    "\n",
    "<center><b>Motu Client Call through Python Loop over Years</b></center>\n",
    "\n",
    "- - - - -\n",
    "\n",
    " For this training, you **SHOULD NOT** modify the content of the below cell. Would you have any question, feel free to contact our [Customer Support Service](http://marine.copernicus.eu/services-portfolio/contact-us/)."
   ]
  },
  {
   "cell_type": "markdown",
   "metadata": {},
   "source": [
    "<div class=\"alert alert-block alert-warning\">\n",
    "<b>Important</b>\n",
    "\n",
    "---\n",
    "By now, several requests are sent to the server and you should notice just aside the block of code that it has the line number indicator like this `In[*]`, which means that the block is running.\n",
    "\n",
    "It may **take up to several minutes** (depending on current bandwidth and wifi parameters provided in the training room). \n",
    "\n",
    "In the meantime, no other cells nor block of code can be executed.\n",
    "\n",
    "Once it's done (execution is finished), the output of previous cell should look like:\n",
    "<br>\n",
    "```\n",
    "+----------------------------+\n",
    "| ! - CONNEXION TO CMEMS HUB |\n",
    "+----------------------------+\n",
    "\n",
    "----------------------------------\n",
    "- ! - Processing dataset request : CMEMS_Yearly_Temperature_Dailymean_PUERTOS_2017.nc\n",
    "----------------------------------\n",
    "\n",
    "[...]\n",
    "\n",
    "------------------------------------------------\n",
    " - ! - Your Copernicus Dataset(s) are located in /<PATH-TO>/data/copernicus-marine-data\n",
    "------------------------------------------------\n",
    "\n",
    "+--------------------------------------------+\n",
    "| ! - CONNEXION TO CMEMS HUB HAS BEEN CLOSED |\n",
    "+--------------------------------------------+\n",
    "```\n",
    "\n",
    "\n",
    "**TROUBLESHOOT MOST COMMON ERRORS**\n",
    "- If, for any reason, the `motuclient` has not been installed and you are getting an error mentionning it's required, then please execute the below cell. Otherwise, you can skip it.\n",
    "<br><br>\n",
    "\n",
    "- If you get an error about the **maximum amount of processing queries running simultaneously**, then pleaseupdate the values of `username_cmems` and `password_cmems` with your own credentials by:\n",
    "  - reaching [this section](#ACTION-12.2)\n",
    "  - if you don't have a copernicus marine account yet, requesting freely your credentials [here](CREATE-A-COPERNICUS-MARINE-ACCOUNT)\n",
    "\n",
    "\n",
    "In case of any other error, please inform the Trainer or contact the [Customer Support Service](http://marine.copernicus.eu/services-portfolio/contact-us/)."
   ]
  },
  {
   "cell_type": "markdown",
   "metadata": {},
   "source": [
    "<div class=\"alert alert-block alert-success\">\n",
    "\n",
    "\n",
    "### ACTION 12.6\n",
    "\n",
    "**Checking the list of newly downloaded NetCDF files**"
   ]
  },
  {
   "cell_type": "markdown",
   "metadata": {},
   "source": [
    "Let's check the list of netCDF files that you just downloaded. We'll use a cell magic command --listing files (more details here http://ipython.org/ipython-doc/dev/interactive/tutorial.html#magics-explained)"
   ]
  },
  {
   "cell_type": "markdown",
   "metadata": {},
   "source": [
    "Let's use bash cell magic \"to call\" ncview within the Notebook."
   ]
  },
  {
   "cell_type": "markdown",
   "metadata": {},
   "source": [
    "<div class=\"alert alert-block alert-warning\">\n",
    "\n",
    "<center><b>**IMPORTANT**</b></center>\n",
    "\n",
    "**THE BELOW CELL ABOUT NCIEW VISUALISATION STARTING WITH \"!\" WILL ONLY WORK ON:**\n",
    "- **MERCATOROCEAN VIRTUALMACHINE**\n",
    "- **UNIX-BASED-OS WITH NCVIEW INSTALLED.**"
   ]
  },
  {
   "cell_type": "code",
   "execution_count": null,
   "metadata": {},
   "outputs": [],
   "source": [
    "#!ncview \"$local_storage_directory_name\"/CMEMS_Yearly_Temperature_Dailymean_MERCATOR_2017.nc"
   ]
  },
  {
   "cell_type": "markdown",
   "metadata": {},
   "source": [
    "Now let's compare several files that we just downloaded, using the bash cell magic command :\n",
    "\n",
    "ncview file_1.nc file2.nc & ncview file_3.nc file_4.nc"
   ]
  },
  {
   "cell_type": "code",
   "execution_count": null,
   "metadata": {},
   "outputs": [],
   "source": [
    "#%%bash -s \"$local_storage_directory_name\"\n",
    "#visualize several years, using ncview command and a list of netcdf files\n",
    "#ncview \"$1/CMEMS_Yearly_Temperature_Dailymean_METOFFICE_2017.nc\" & ncview \"$1/CMEMS_Yearly_Temperature_Dailymean_MERCATOR_2017.nc\""
   ]
  },
  {
   "cell_type": "markdown",
   "metadata": {},
   "source": [
    "<div class=\"alert alert-block alert-success\">\n",
    "\n",
    "\n",
    "### ACTION 13\n",
    "\n",
    "**Creating an advanced script to subset and download NetCDF files by months**\n",
    "\n",
    "Create a (python) script to download a large amount of data, month by month."
   ]
  },
  {
   "cell_type": "markdown",
   "metadata": {},
   "source": [
    "<div class=\"alert alert-block alert-warning\">\n",
    "\n",
    "<center><b>Main Program</b></center>\n",
    "\n",
    "<center><b>Motu Client Call through Python Loop over Months</b></center>\n",
    "\n",
    "- - - - -\n",
    "\n",
    " For this training, you **SHOULD NOT** modify the content of the below cell. Would you have any question, feel free to contact our [Customer Support Service](http://marine.copernicus.eu/services-portfolio/contact-us/)."
   ]
  },
  {
   "cell_type": "markdown",
   "metadata": {},
   "source": [
    "If, for any reason, the `motuclient` has not been installed and you are getting an error mentionning it's required, then please execute the below cell. Otherwise, you can skip it."
   ]
  },
  {
   "cell_type": "markdown",
   "metadata": {},
   "source": [
    "--------\n",
    "Here's below an example of using a cell magic to download the Copernicus Data using a simple script :"
   ]
  },
  {
   "cell_type": "code",
   "execution_count": 107,
   "metadata": {},
   "outputs": [],
   "source": [
    "!motuclient \\\n",
    "-m http://nrt.cmems-du.eu/motu-web/Motu \\\n",
    "-s GLOBAL_ANALYSIS_FORECAST_PHY_001_024-TDS \\\n",
    "-d global-analysis-forecast-phy-001-024 \\\n",
    "-x -6 -X 36.5 -y 30 -Y 46 \\\n",
    "-t \"2016-10-17 12:00:00\" -T \"2016-10-22 12:00:00\" \\\n",
    "-z 0.494 -Z 0.4942 \\\n",
    "-o . \\\n",
    "-f test.nc \\\n",
    "-u username -p password -q"
   ]
  },
  {
   "cell_type": "markdown",
   "metadata": {},
   "source": [
    "Let's check the listing of the files you downloaded so far, ordered by last download, with the volume size and group rights."
   ]
  },
  {
   "cell_type": "code",
   "execution_count": 108,
   "metadata": {},
   "outputs": [
    {
     "name": "stdout",
     "output_type": "stream",
     "text": [
      "total 15M\n",
      "-rw-r--r-- 1 jovyan jovyan   13 Apr 26 08:28 runtime.txt\n",
      "-rw-r--r-- 1 jovyan jovyan    7 Apr 26 08:28 REQUIRE\n",
      "-rw-r--r-- 1 jovyan jovyan   92 Apr 26 08:28 README.md\n",
      "-rwxr-xr-x 1 jovyan jovyan  870 Apr 26 08:28 postBuild\n",
      "-rw-r--r-- 1 jovyan jovyan   99 Apr 26 08:28 install.R\n",
      "-rw-r--r-- 1 jovyan jovyan  356 Apr 26 08:28 environment.yml\n",
      "-rw-r--r-- 1 jovyan jovyan   19 Apr 26 08:28 apt.txt\n",
      "-rw-r--r-- 1 jovyan jovyan 1.3M Apr 26 09:02 notebooks-godae.zip\n",
      "drwxr-xr-x 1 jovyan jovyan 4.0K Apr 30 21:42 training-godae\n",
      "-rw-r--r-- 1 jovyan jovyan 388K May  1 00:11 00-Getting-Started.ipynb\n",
      "-rw-r--r-- 1 jovyan jovyan  13M May  1 00:12 test.nc\n"
     ]
    }
   ],
   "source": [
    "!ls -lrht"
   ]
  },
  {
   "cell_type": "markdown",
   "metadata": {},
   "source": [
    "# How to check the content of NetCDF file and quickly plot data\n",
    "---"
   ]
  },
  {
   "cell_type": "markdown",
   "metadata": {},
   "source": [
    "<div class=\"alert alert-block alert-info\">\n",
    "<b>Note</b>\n",
    "\n",
    "- - - - -\n",
    "There are many desktop clients, libraries, programming languages to manipulate NetCDF files. There are divided into two categories:\n",
    "\n",
    "- [Freely available](http://www.unidata.ucar.edu/software/netcdf/software.html#freely)\n",
    "- [Commercial or Licensed Packages](http://www.unidata.ucar.edu/software/netcdf/software.html#commercial)\n",
    "\n",
    "To answer the question in this chapter, we will use scientific libraries, modules, packages, developed in Python, available free of charge and already installed in your environment (if you have implemented the technical requirements highlighted [here](http://marine.copernicus.eu/faq/technical-requirements-attend-crts-copernicusmarine-training/?idpage=169))."
   ]
  },
  {
   "cell_type": "markdown",
   "metadata": {},
   "source": [
    "You need to import needed modules which are:\n",
    "- **[Xarray]**:\n",
    "It is designed to perform labelled data analysis on multi-dimensional arrays and it adopts the Common Data Model for self-describing scientific data in widespread use in the Earth sciences. In the specific the xarray.Dataset is a top-level function which is an in-memory representation of a netCDF file.\n",
    "- **[Matplotlib]**: \n",
    "It is a state-based interface to matplotlib. It provides a MATLAB-like way of plotting."
   ]
  },
  {
   "cell_type": "code",
   "execution_count": 58,
   "metadata": {},
   "outputs": [],
   "source": [
    "import xarray as xr\n",
    "import matplotlib.pyplot as plt\n",
    "%matplotlib inline\n",
    "plt.style.use('ggplot')"
   ]
  },
  {
   "cell_type": "markdown",
   "metadata": {},
   "source": [
    "_**Note**: The `import` module may take up to 60 secondes depending on your machine characteristics. Please wait._"
   ]
  },
  {
   "cell_type": "markdown",
   "metadata": {},
   "source": [
    "Now you will be able to open the netCDF file and input it as an xarray dataset (a dataseries shortened as `ds`). It loads an in-memory representation of our NetCDF file from which are taken the dimentions, variables, coordinates and attributes."
   ]
  },
  {
   "cell_type": "code",
   "execution_count": 109,
   "metadata": {},
   "outputs": [],
   "source": [
    "netcdfFile_in = 'test.nc'"
   ]
  },
  {
   "cell_type": "code",
   "execution_count": 110,
   "metadata": {},
   "outputs": [],
   "source": [
    "ds = xr.open_dataset(netcdfFile_in)"
   ]
  },
  {
   "cell_type": "markdown",
   "metadata": {},
   "source": [
    "<div class=\"alert alert-block alert-success\">\n",
    "\n",
    "\n",
    "### ACTION 14\n",
    "\n",
    "**Exploring NetCDF file content**\n"
   ]
  },
  {
   "cell_type": "code",
   "execution_count": 111,
   "metadata": {},
   "outputs": [
    {
     "name": "stdout",
     "output_type": "stream",
     "text": [
      "xarray.Dataset {\n",
      "dimensions:\n",
      "\tdepth = 1 ;\n",
      "\tlatitude = 193 ;\n",
      "\tlongitude = 511 ;\n",
      "\ttime = 6 ;\n",
      "\n",
      "variables:\n",
      "\tfloat32 mlotst(time, latitude, longitude) ;\n",
      "\t\tmlotst:long_name = Density ocean mixed layer thickness ;\n",
      "\t\tmlotst:standard_name = ocean_mixed_layer_thickness_defined_by_sigma_theta ;\n",
      "\t\tmlotst:units = m ;\n",
      "\t\tmlotst:unit_long = Meters ;\n",
      "\t\tmlotst:cell_methods = area: mean ;\n",
      "\tfloat32 siconc(time, latitude, longitude) ;\n",
      "\t\tsiconc:long_name = Ice concentration ;\n",
      "\t\tsiconc:standard_name = sea_ice_area_fraction ;\n",
      "\t\tsiconc:units = 1 ;\n",
      "\t\tsiconc:unit_long = Fraction ;\n",
      "\t\tsiconc:cell_methods = area: mean where sea_ice ;\n",
      "\tfloat32 latitude(latitude) ;\n",
      "\t\tlatitude:valid_min = 30.0 ;\n",
      "\t\tlatitude:valid_max = 46.0 ;\n",
      "\t\tlatitude:step = 0.08333587646484375 ;\n",
      "\t\tlatitude:units = degrees_north ;\n",
      "\t\tlatitude:unit_long = Degrees North ;\n",
      "\t\tlatitude:long_name = Latitude ;\n",
      "\t\tlatitude:standard_name = latitude ;\n",
      "\t\tlatitude:axis = Y ;\n",
      "\t\tlatitude:_CoordinateAxisType = Lat ;\n",
      "\tfloat32 usi(time, latitude, longitude) ;\n",
      "\t\tusi:long_name = Sea ice eastward velocity ;\n",
      "\t\tusi:standard_name = eastward_sea_ice_velocity ;\n",
      "\t\tusi:units = m s-1 ;\n",
      "\t\tusi:unit_long = Meters per second ;\n",
      "\t\tusi:cell_methods = area: mean where sea_ice ;\n",
      "\tfloat32 thetao(time, depth, latitude, longitude) ;\n",
      "\t\tthetao:long_name = Temperature ;\n",
      "\t\tthetao:standard_name = sea_water_potential_temperature ;\n",
      "\t\tthetao:units = degrees_C ;\n",
      "\t\tthetao:unit_long = Degrees Celsius ;\n",
      "\t\tthetao:cell_methods = area: mean ;\n",
      "\tfloat32 sithick(time, latitude, longitude) ;\n",
      "\t\tsithick:long_name = Sea ice thickness ;\n",
      "\t\tsithick:standard_name = sea_ice_thickness ;\n",
      "\t\tsithick:units = m ;\n",
      "\t\tsithick:unit_long = Meters ;\n",
      "\t\tsithick:cell_methods = area: mean where sea_ice ;\n",
      "\tfloat32 bottomT(time, latitude, longitude) ;\n",
      "\t\tbottomT:long_name = Sea floor potential temperature ;\n",
      "\t\tbottomT:standard_name = sea_water_potential_temperature_at_sea_floor ;\n",
      "\t\tbottomT:units = degrees_C ;\n",
      "\t\tbottomT:unit_long = Degrees Celsius ;\n",
      "\t\tbottomT:cell_methods = area: mean ;\n",
      "\tfloat32 vsi(time, latitude, longitude) ;\n",
      "\t\tvsi:long_name = Sea ice northward velocity ;\n",
      "\t\tvsi:standard_name = northward_sea_ice_velocity ;\n",
      "\t\tvsi:units = m s-1 ;\n",
      "\t\tvsi:unit_long = Meters per second ;\n",
      "\t\tvsi:cell_methods = area: mean where sea_ice ;\n",
      "\tfloat32 depth(depth) ;\n",
      "\t\tdepth:valid_min = 0.49402499198913574 ;\n",
      "\t\tdepth:valid_max = 0.49402499198913574 ;\n",
      "\t\tdepth:units = m ;\n",
      "\t\tdepth:positive = down ;\n",
      "\t\tdepth:unit_long = Meters ;\n",
      "\t\tdepth:long_name = Depth ;\n",
      "\t\tdepth:standard_name = depth ;\n",
      "\t\tdepth:axis = Z ;\n",
      "\t\tdepth:_CoordinateAxisType = Height ;\n",
      "\t\tdepth:_CoordinateZisPositive = down ;\n",
      "\tfloat32 vo(time, depth, latitude, longitude) ;\n",
      "\t\tvo:long_name = Northward velocity ;\n",
      "\t\tvo:standard_name = northward_sea_water_velocity ;\n",
      "\t\tvo:units = m s-1 ;\n",
      "\t\tvo:unit_long = Meters per second ;\n",
      "\t\tvo:cell_methods = area: mean ;\n",
      "\tfloat32 uo(time, depth, latitude, longitude) ;\n",
      "\t\tuo:long_name = Eastward velocity ;\n",
      "\t\tuo:standard_name = eastward_sea_water_velocity ;\n",
      "\t\tuo:units = m s-1 ;\n",
      "\t\tuo:unit_long = Meters per second ;\n",
      "\t\tuo:cell_methods = area: mean ;\n",
      "\tdatetime64[ns] time(time) ;\n",
      "\t\ttime:long_name = Time (hours since 1950-01-01) ;\n",
      "\t\ttime:standard_name = time ;\n",
      "\t\ttime:axis = T ;\n",
      "\t\ttime:_CoordinateAxisType = Time ;\n",
      "\t\ttime:valid_min = 585516.0 ;\n",
      "\t\ttime:valid_max = 585636.0 ;\n",
      "\tfloat32 so(time, depth, latitude, longitude) ;\n",
      "\t\tso:long_name = Salinity ;\n",
      "\t\tso:standard_name = sea_water_salinity ;\n",
      "\t\tso:units = 1e-3 ;\n",
      "\t\tso:unit_long = Practical Salinity Unit ;\n",
      "\t\tso:cell_methods = area: mean ;\n",
      "\tfloat32 longitude(longitude) ;\n",
      "\t\tlongitude:valid_min = -6.0 ;\n",
      "\t\tlongitude:valid_max = 36.5 ;\n",
      "\t\tlongitude:step = 0.0833282470703125 ;\n",
      "\t\tlongitude:units = degrees_east ;\n",
      "\t\tlongitude:unit_long = Degrees East ;\n",
      "\t\tlongitude:long_name = Longitude ;\n",
      "\t\tlongitude:standard_name = longitude ;\n",
      "\t\tlongitude:axis = X ;\n",
      "\t\tlongitude:_CoordinateAxisType = Lon ;\n",
      "\tfloat32 zos(time, latitude, longitude) ;\n",
      "\t\tzos:long_name = Sea surface height ;\n",
      "\t\tzos:standard_name = sea_surface_height_above_geoid ;\n",
      "\t\tzos:units = m ;\n",
      "\t\tzos:unit_long = Meters ;\n",
      "\t\tzos:cell_methods = area: mean ;\n",
      "\n",
      "// global attributes:\n",
      "\t:title = daily mean fields from Global Ocean Physics Analysis and Forecast updated Daily ;\n",
      "\t:easting = longitude ;\n",
      "\t:northing = latitude ;\n",
      "\t:history = 2019/04/30 01:31:43 MERCATOR OCEAN Netcdf creation ;\n",
      "\t:source = MERCATOR PSY4QV3R1 ;\n",
      "\t:institution = MERCATOR OCEAN ;\n",
      "\t:references = http://www.mercator-ocean.fr ;\n",
      "\t:comment = CMEMS product ;\n",
      "\t:Conventions = CF-1.4 ;\n",
      "\t:domain_name = GL12 ;\n",
      "\t:FROM_ORIGINAL_FILE__field_type = mean ;\n",
      "\t:field_date = 2019-05-09 00:00:00 ;\n",
      "\t:field_julian_date = 25330.0 ;\n",
      "\t:julian_day_unit = days since 1950-01-01 00:00:00 ;\n",
      "\t:forecast_range = 9-day_forecast ;\n",
      "\t:forecast_type = forecast ;\n",
      "\t:bulletin_date = 2019-04-30 00:00:00 ;\n",
      "\t:bulletin_type = operational ;\n",
      "\t:FROM_ORIGINAL_FILE__longitude_min = -180.0 ;\n",
      "\t:FROM_ORIGINAL_FILE__longitude_max = 179.9166717529297 ;\n",
      "\t:FROM_ORIGINAL_FILE__latitude_min = -80.0 ;\n",
      "\t:FROM_ORIGINAL_FILE__latitude_max = 90.0 ;\n",
      "\t:z_min = 0.49402499198913574 ;\n",
      "\t:z_max = 5727.9169921875 ;\n",
      "\t:_CoordSysBuilder = ucar.nc2.dataset.conv.CF1Convention ;\n",
      "}"
     ]
    }
   ],
   "source": [
    "ds.info()"
   ]
  },
  {
   "cell_type": "markdown",
   "metadata": {},
   "source": [
    "**What do we see?**\n",
    "\n",
    "From the above results, it seems that we are dealing with NetCDF files in format `NETCDF3_CLASSIC data model`. Dimensions, variables are described by it can be done with further commands with more detailed output."
   ]
  },
  {
   "cell_type": "markdown",
   "metadata": {},
   "source": [
    "<div class=\"alert alert-block alert-success\">\n",
    "\n",
    "\n",
    "### ACTION 15\n",
    "\n",
    "**Checking NetCDF Metadata**\n"
   ]
  },
  {
   "cell_type": "code",
   "execution_count": 124,
   "metadata": {},
   "outputs": [
    {
     "data": {
      "text/plain": [
       "Frozen(SortedKeysDict({'time': 6, 'latitude': 193, 'longitude': 511, 'depth': 1}))"
      ]
     },
     "execution_count": 124,
     "metadata": {},
     "output_type": "execute_result"
    }
   ],
   "source": [
    "ds.dims"
   ]
  },
  {
   "cell_type": "code",
   "execution_count": 125,
   "metadata": {},
   "outputs": [
    {
     "data": {
      "text/plain": [
       "OrderedDict([('title',\n",
       "              'daily mean fields from Global Ocean Physics Analysis and Forecast updated Daily'),\n",
       "             ('easting', 'longitude'),\n",
       "             ('northing', 'latitude'),\n",
       "             ('history', '2019/04/30 01:31:43 MERCATOR OCEAN Netcdf creation'),\n",
       "             ('source', 'MERCATOR PSY4QV3R1'),\n",
       "             ('institution', 'MERCATOR OCEAN'),\n",
       "             ('references', 'http://www.mercator-ocean.fr'),\n",
       "             ('comment', 'CMEMS product'),\n",
       "             ('Conventions', 'CF-1.4'),\n",
       "             ('domain_name', 'GL12'),\n",
       "             ('FROM_ORIGINAL_FILE__field_type', 'mean'),\n",
       "             ('field_date', '2019-05-09 00:00:00'),\n",
       "             ('field_julian_date', 25330.0),\n",
       "             ('julian_day_unit', 'days since 1950-01-01 00:00:00'),\n",
       "             ('forecast_range', '9-day_forecast'),\n",
       "             ('forecast_type', 'forecast'),\n",
       "             ('bulletin_date', '2019-04-30 00:00:00'),\n",
       "             ('bulletin_type', 'operational'),\n",
       "             ('FROM_ORIGINAL_FILE__longitude_min', -180.0),\n",
       "             ('FROM_ORIGINAL_FILE__longitude_max', 179.91667),\n",
       "             ('FROM_ORIGINAL_FILE__latitude_min', -80.0),\n",
       "             ('FROM_ORIGINAL_FILE__latitude_max', 90.0),\n",
       "             ('z_min', 0.494025),\n",
       "             ('z_max', 5727.917),\n",
       "             ('_CoordSysBuilder', 'ucar.nc2.dataset.conv.CF1Convention')])"
      ]
     },
     "execution_count": 125,
     "metadata": {},
     "output_type": "execute_result"
    }
   ],
   "source": [
    "ds.attrs"
   ]
  },
  {
   "cell_type": "markdown",
   "metadata": {},
   "source": [
    "From the query executed above it is possible to verify our matrix dimentions, coordinates, data variables and attributes.<br>\n",
    "However in this example we focus on the one variable contained in the file which is the `sea_water_temperature` aka `thetao`.\n",
    "\n",
    "By typing `<DATASERIE>.<VARIABLE>`,it is possible to access and visualise just the variable's metadata as follow:"
   ]
  },
  {
   "cell_type": "code",
   "execution_count": 145,
   "metadata": {},
   "outputs": [
    {
     "data": {
      "text/plain": [
       "<xarray.DataArray 'thetao' (time: 6, depth: 1, latitude: 193, longitude: 511)>\n",
       "array([[[[      nan, ...,       nan],\n",
       "         ...,\n",
       "         [17.329721, ..., 14.091586]]],\n",
       "\n",
       "\n",
       "       ...,\n",
       "\n",
       "\n",
       "       [[[      nan, ...,       nan],\n",
       "         ...,\n",
       "         [16.921019, ..., 11.949919]]]], dtype=float32)\n",
       "Coordinates:\n",
       "  * latitude   (latitude) float32 30.0 30.083334 30.166666 ... 45.916668 46.0\n",
       "  * depth      (depth) float32 0.494025\n",
       "  * time       (time) datetime64[ns] 2016-10-17T12:00:00 ... 2016-10-22T12:00:00\n",
       "  * longitude  (longitude) float32 -6.0 -5.9166665 -5.8333335 ... 36.416668 36.5\n",
       "Attributes:\n",
       "    long_name:                           Temperature\n",
       "    standard_name:                       sea_water_potential_temperature\n",
       "    units:                               degrees_C\n",
       "    unit_long:                           Degrees Celsius\n",
       "    cell_methods:                        area: mean\n",
       "    tutorial-GODAE-OCEANPREDICT19-date:  20190509"
      ]
     },
     "execution_count": 145,
     "metadata": {},
     "output_type": "execute_result"
    }
   ],
   "source": [
    "ds.thetao"
   ]
  },
  {
   "cell_type": "code",
   "execution_count": 127,
   "metadata": {},
   "outputs": [
    {
     "data": {
      "text/plain": [
       "('time', 'depth', 'latitude', 'longitude')"
      ]
     },
     "execution_count": 127,
     "metadata": {},
     "output_type": "execute_result"
    }
   ],
   "source": [
    "ds.thetao.dims"
   ]
  },
  {
   "cell_type": "markdown",
   "metadata": {},
   "source": [
    "<div class=\"alert alert-block alert-success\">\n",
    "\n",
    "\n",
    "### ACTION 16\n",
    "\n",
    "**Checking NetCDF Data**\n"
   ]
  },
  {
   "cell_type": "markdown",
   "metadata": {},
   "source": [
    "It's also possible to easily check the netCDF file data (marine information) content:"
   ]
  },
  {
   "cell_type": "code",
   "execution_count": 43,
   "metadata": {
    "scrolled": true
   },
   "outputs": [
    {
     "data": {
      "text/plain": [
       "array([[[[      nan,       nan,       nan, ...,       nan,       nan,\n",
       "                nan],\n",
       "         [      nan,       nan,       nan, ...,       nan,       nan,\n",
       "                nan],\n",
       "         [      nan,       nan,       nan, ...,       nan,       nan,\n",
       "                nan],\n",
       "         ...,\n",
       "         [17.38905 , 17.347301, 17.279915, ..., 14.119419, 14.133335,\n",
       "          14.13187 ],\n",
       "         [17.361217, 17.33851 , 17.291636, ..., 14.126743, 14.136265,\n",
       "          14.13773 ],\n",
       "         [17.329721, 17.315073, 17.283577, ..., 14.115025, 14.096713,\n",
       "          14.091586]]]], dtype=float32)"
      ]
     },
     "execution_count": 43,
     "metadata": {},
     "output_type": "execute_result"
    }
   ],
   "source": [
    "ds.thetao.values"
   ]
  },
  {
   "cell_type": "code",
   "execution_count": 128,
   "metadata": {},
   "outputs": [
    {
     "data": {
      "text/plain": [
       "OrderedDict([('long_name', 'Temperature'),\n",
       "             ('standard_name', 'sea_water_potential_temperature'),\n",
       "             ('units', 'degrees_C'),\n",
       "             ('unit_long', 'Degrees Celsius'),\n",
       "             ('cell_methods', 'area: mean')])"
      ]
     },
     "execution_count": 128,
     "metadata": {},
     "output_type": "execute_result"
    }
   ],
   "source": [
    "ds.thetao.attrs"
   ]
  },
  {
   "cell_type": "code",
   "execution_count": 129,
   "metadata": {},
   "outputs": [],
   "source": [
    "ds.thetao.attrs['tutorial-GODAE-OCEANPREDICT19-date'] = 20190509"
   ]
  },
  {
   "cell_type": "code",
   "execution_count": 130,
   "metadata": {},
   "outputs": [
    {
     "data": {
      "text/plain": [
       "OrderedDict([('long_name', 'Temperature'),\n",
       "             ('standard_name', 'sea_water_potential_temperature'),\n",
       "             ('units', 'degrees_C'),\n",
       "             ('unit_long', 'Degrees Celsius'),\n",
       "             ('cell_methods', 'area: mean'),\n",
       "             ('tutorial-GODAE-OCEANPREDICT19-date', 20190509)])"
      ]
     },
     "execution_count": 130,
     "metadata": {},
     "output_type": "execute_result"
    }
   ],
   "source": [
    "ds.thetao.attrs"
   ]
  },
  {
   "cell_type": "code",
   "execution_count": 131,
   "metadata": {},
   "outputs": [
    {
     "data": {
      "text/plain": [
       "numpy.ndarray"
      ]
     },
     "execution_count": 131,
     "metadata": {},
     "output_type": "execute_result"
    }
   ],
   "source": [
    "type(ds.thetao.values)"
   ]
  },
  {
   "cell_type": "code",
   "execution_count": 132,
   "metadata": {},
   "outputs": [],
   "source": [
    "df = ds.to_dataframe()"
   ]
  },
  {
   "cell_type": "code",
   "execution_count": 133,
   "metadata": {},
   "outputs": [
    {
     "data": {
      "text/html": [
       "<div>\n",
       "<style scoped>\n",
       "    .dataframe tbody tr th:only-of-type {\n",
       "        vertical-align: middle;\n",
       "    }\n",
       "\n",
       "    .dataframe tbody tr th {\n",
       "        vertical-align: top;\n",
       "    }\n",
       "\n",
       "    .dataframe thead th {\n",
       "        text-align: right;\n",
       "    }\n",
       "</style>\n",
       "<table border=\"1\" class=\"dataframe\">\n",
       "  <thead>\n",
       "    <tr style=\"text-align: right;\">\n",
       "      <th></th>\n",
       "      <th>mlotst</th>\n",
       "      <th>siconc</th>\n",
       "      <th>usi</th>\n",
       "      <th>thetao</th>\n",
       "      <th>sithick</th>\n",
       "      <th>bottomT</th>\n",
       "      <th>vsi</th>\n",
       "      <th>vo</th>\n",
       "      <th>uo</th>\n",
       "      <th>so</th>\n",
       "      <th>zos</th>\n",
       "    </tr>\n",
       "  </thead>\n",
       "  <tbody>\n",
       "    <tr>\n",
       "      <th>count</th>\n",
       "      <td>264948.000000</td>\n",
       "      <td>0.0</td>\n",
       "      <td>264924.0</td>\n",
       "      <td>264948.000000</td>\n",
       "      <td>0.0</td>\n",
       "      <td>264948.000000</td>\n",
       "      <td>264924.0</td>\n",
       "      <td>264924.000000</td>\n",
       "      <td>2.649240e+05</td>\n",
       "      <td>264948.000000</td>\n",
       "      <td>264948.000000</td>\n",
       "    </tr>\n",
       "    <tr>\n",
       "      <th>mean</th>\n",
       "      <td>22.043928</td>\n",
       "      <td>NaN</td>\n",
       "      <td>0.0</td>\n",
       "      <td>22.321960</td>\n",
       "      <td>NaN</td>\n",
       "      <td>13.922149</td>\n",
       "      <td>0.0</td>\n",
       "      <td>-0.004979</td>\n",
       "      <td>9.209449e-07</td>\n",
       "      <td>36.028248</td>\n",
       "      <td>-0.388269</td>\n",
       "    </tr>\n",
       "    <tr>\n",
       "      <th>std</th>\n",
       "      <td>8.708918</td>\n",
       "      <td>NaN</td>\n",
       "      <td>0.0</td>\n",
       "      <td>3.006249</td>\n",
       "      <td>NaN</td>\n",
       "      <td>3.396861</td>\n",
       "      <td>0.0</td>\n",
       "      <td>0.099252</td>\n",
       "      <td>1.226213e-01</td>\n",
       "      <td>6.459136</td>\n",
       "      <td>0.078200</td>\n",
       "    </tr>\n",
       "    <tr>\n",
       "      <th>min</th>\n",
       "      <td>3.814814</td>\n",
       "      <td>NaN</td>\n",
       "      <td>0.0</td>\n",
       "      <td>10.523850</td>\n",
       "      <td>NaN</td>\n",
       "      <td>1.944731</td>\n",
       "      <td>0.0</td>\n",
       "      <td>-0.694601</td>\n",
       "      <td>-8.038576e-01</td>\n",
       "      <td>7.046724</td>\n",
       "      <td>-0.622578</td>\n",
       "    </tr>\n",
       "    <tr>\n",
       "      <th>25%</th>\n",
       "      <td>15.564441</td>\n",
       "      <td>NaN</td>\n",
       "      <td>0.0</td>\n",
       "      <td>20.451399</td>\n",
       "      <td>NaN</td>\n",
       "      <td>12.979735</td>\n",
       "      <td>0.0</td>\n",
       "      <td>-0.054933</td>\n",
       "      <td>-5.859554e-02</td>\n",
       "      <td>37.290565</td>\n",
       "      <td>-0.444044</td>\n",
       "    </tr>\n",
       "    <tr>\n",
       "      <th>50%</th>\n",
       "      <td>20.752588</td>\n",
       "      <td>NaN</td>\n",
       "      <td>0.0</td>\n",
       "      <td>22.966612</td>\n",
       "      <td>NaN</td>\n",
       "      <td>13.568621</td>\n",
       "      <td>0.0</td>\n",
       "      <td>-0.003662</td>\n",
       "      <td>-3.662221e-03</td>\n",
       "      <td>38.334301</td>\n",
       "      <td>-0.392163</td>\n",
       "    </tr>\n",
       "    <tr>\n",
       "      <th>75%</th>\n",
       "      <td>27.008883</td>\n",
       "      <td>NaN</td>\n",
       "      <td>0.0</td>\n",
       "      <td>24.627796</td>\n",
       "      <td>NaN</td>\n",
       "      <td>14.565477</td>\n",
       "      <td>0.0</td>\n",
       "      <td>0.043336</td>\n",
       "      <td>5.859554e-02</td>\n",
       "      <td>39.086964</td>\n",
       "      <td>-0.331736</td>\n",
       "    </tr>\n",
       "    <tr>\n",
       "      <th>max</th>\n",
       "      <td>68.056274</td>\n",
       "      <td>NaN</td>\n",
       "      <td>0.0</td>\n",
       "      <td>28.276100</td>\n",
       "      <td>NaN</td>\n",
       "      <td>28.221169</td>\n",
       "      <td>0.0</td>\n",
       "      <td>0.656148</td>\n",
       "      <td>7.544175e-01</td>\n",
       "      <td>40.157780</td>\n",
       "      <td>-0.027467</td>\n",
       "    </tr>\n",
       "  </tbody>\n",
       "</table>\n",
       "</div>"
      ],
      "text/plain": [
       "              mlotst  siconc       usi         thetao  sithick        bottomT  \\\n",
       "count  264948.000000     0.0  264924.0  264948.000000      0.0  264948.000000   \n",
       "mean       22.043928     NaN       0.0      22.321960      NaN      13.922149   \n",
       "std         8.708918     NaN       0.0       3.006249      NaN       3.396861   \n",
       "min         3.814814     NaN       0.0      10.523850      NaN       1.944731   \n",
       "25%        15.564441     NaN       0.0      20.451399      NaN      12.979735   \n",
       "50%        20.752588     NaN       0.0      22.966612      NaN      13.568621   \n",
       "75%        27.008883     NaN       0.0      24.627796      NaN      14.565477   \n",
       "max        68.056274     NaN       0.0      28.276100      NaN      28.221169   \n",
       "\n",
       "            vsi             vo            uo             so            zos  \n",
       "count  264924.0  264924.000000  2.649240e+05  264948.000000  264948.000000  \n",
       "mean        0.0      -0.004979  9.209449e-07      36.028248      -0.388269  \n",
       "std         0.0       0.099252  1.226213e-01       6.459136       0.078200  \n",
       "min         0.0      -0.694601 -8.038576e-01       7.046724      -0.622578  \n",
       "25%         0.0      -0.054933 -5.859554e-02      37.290565      -0.444044  \n",
       "50%         0.0      -0.003662 -3.662221e-03      38.334301      -0.392163  \n",
       "75%         0.0       0.043336  5.859554e-02      39.086964      -0.331736  \n",
       "max         0.0       0.656148  7.544175e-01      40.157780      -0.027467  "
      ]
     },
     "execution_count": 133,
     "metadata": {},
     "output_type": "execute_result"
    }
   ],
   "source": [
    "df.describe()"
   ]
  },
  {
   "cell_type": "markdown",
   "metadata": {},
   "source": [
    "**Positional indexing (old way)**"
   ]
  },
  {
   "cell_type": "code",
   "execution_count": 134,
   "metadata": {},
   "outputs": [
    {
     "data": {
      "text/plain": [
       "<xarray.DataArray 'thetao' (time: 6)>\n",
       "array([23.626545, 23.660236, 23.649982, 23.647785, 23.594318, 23.629475],\n",
       "      dtype=float32)\n",
       "Coordinates:\n",
       "    latitude   float32 36.666668\n",
       "    depth      float32 0.494025\n",
       "  * time       (time) datetime64[ns] 2016-10-17T12:00:00 ... 2016-10-22T12:00:00\n",
       "    longitude  float32 0.6666667\n",
       "Attributes:\n",
       "    long_name:                           Temperature\n",
       "    standard_name:                       sea_water_potential_temperature\n",
       "    units:                               degrees_C\n",
       "    unit_long:                           Degrees Celsius\n",
       "    cell_methods:                        area: mean\n",
       "    tutorial-GODAE-OCEANPREDICT19-date:  20190509"
      ]
     },
     "execution_count": 134,
     "metadata": {},
     "output_type": "execute_result"
    }
   ],
   "source": [
    "ds.thetao[:, 0, 80, 80]"
   ]
  },
  {
   "cell_type": "code",
   "execution_count": 135,
   "metadata": {},
   "outputs": [
    {
     "data": {
      "image/png": "[encoded data removed]",
      "text/plain": [
       "<Figure size 432x288 with 1 Axes>"
      ]
     },
     "metadata": {},
     "output_type": "display_data"
    }
   ],
   "source": [
    "ds.thetao[:, 0, 80, 80].plot();"
   ]
  },
  {
   "cell_type": "markdown",
   "metadata": {},
   "source": [
    "**Selection based on the value of a coordinate:**"
   ]
  },
  {
   "cell_type": "code",
   "execution_count": 136,
   "metadata": {},
   "outputs": [
    {
     "data": {
      "image/png": "[encoded data removed]",
      "text/plain": [
       "<Figure size 432x288 with 1 Axes>"
      ]
     },
     "metadata": {},
     "output_type": "display_data"
    }
   ],
   "source": [
    "ds.thetao.sel(latitude=36.666668, longitude=0.6666667, method='nearest', tolerance=0.2).plot();"
   ]
  },
  {
   "cell_type": "markdown",
   "metadata": {},
   "source": [
    "**Selection by value works well for time to create Histogram**"
   ]
  },
  {
   "cell_type": "code",
   "execution_count": 137,
   "metadata": {},
   "outputs": [
    {
     "data": {
      "text/plain": [
       "<matplotlib.collections.QuadMesh at 0x7f9172827400>"
      ]
     },
     "execution_count": 137,
     "metadata": {},
     "output_type": "execute_result"
    },
    {
     "data": {
      "image/png": "[encoded data removed]",
      "text/plain": [
       "<Figure size 432x288 with 2 Axes>"
      ]
     },
     "metadata": {},
     "output_type": "display_data"
    }
   ],
   "source": [
    "ds.thetao.sel(time='2016-10-17').plot()"
   ]
  },
  {
   "cell_type": "markdown",
   "metadata": {},
   "source": [
    "**Selection based on the index of a coordinate:**"
   ]
  },
  {
   "cell_type": "code",
   "execution_count": 138,
   "metadata": {},
   "outputs": [
    {
     "data": {
      "image/png": "[encoded data removed]",
      "text/plain": [
       "<Figure size 432x288 with 2 Axes>"
      ]
     },
     "metadata": {},
     "output_type": "display_data"
    }
   ],
   "source": [
    "ds.thetao.isel(time=0).plot();"
   ]
  },
  {
   "cell_type": "code",
   "execution_count": 140,
   "metadata": {},
   "outputs": [
    {
     "data": {
      "text/plain": [
       "<matplotlib.legend.Legend at 0x7f9172c59780>"
      ]
     },
     "execution_count": 140,
     "metadata": {},
     "output_type": "execute_result"
    },
    {
     "data": {
      "image/png": "[encoded data removed]",
      "text/plain": [
       "<Figure size 432x288 with 1 Axes>"
      ]
     },
     "metadata": {},
     "output_type": "display_data"
    }
   ],
   "source": [
    "fig, ax = plt.subplots()\n",
    "ax.plot(ds.thetao.sel(latitude=36.666668, longitude=0, method='nearest', tolerance=0.2), label='lon=0, lat=36.66')\n",
    "ax.plot(ds.thetao.sel(latitude=39.666668, longitude=0, method='nearest', tolerance=0.2), label='lon=0, lat=39.66')\n",
    "ax.legend(loc='upper right')"
   ]
  },
  {
   "cell_type": "markdown",
   "metadata": {},
   "source": [
    "<div class=\"alert alert-block alert-success\">\n",
    "\n",
    "\n",
    "### ACTION 17\n",
    "\n",
    "**Compute both minimum and maximum values from the netCDF file**"
   ]
  },
  {
   "cell_type": "markdown",
   "metadata": {},
   "source": [
    "Let's use the `min()` and `max()` functions."
   ]
  },
  {
   "cell_type": "code",
   "execution_count": 141,
   "metadata": {},
   "outputs": [
    {
     "data": {
      "text/plain": [
       "<xarray.DataArray 'thetao' ()>\n",
       "array(10.52385, dtype=float32)"
      ]
     },
     "execution_count": 141,
     "metadata": {},
     "output_type": "execute_result"
    }
   ],
   "source": [
    "min_thetao = ds.thetao.min()\n",
    "min_thetao"
   ]
  },
  {
   "cell_type": "code",
   "execution_count": 142,
   "metadata": {
    "scrolled": true
   },
   "outputs": [
    {
     "data": {
      "text/plain": [
       "<xarray.DataArray 'thetao' ()>\n",
       "array(28.2761, dtype=float32)"
      ]
     },
     "execution_count": 142,
     "metadata": {},
     "output_type": "execute_result"
    }
   ],
   "source": [
    "max_thetao = ds.thetao.max()\n",
    "max_thetao"
   ]
  },
  {
   "cell_type": "markdown",
   "metadata": {},
   "source": [
    "It means that the minimum temperature computed by the numerical model for this period is {{min_thetao}} °C and the maximum is {{max_thetao}} °C."
   ]
  },
  {
   "cell_type": "markdown",
   "metadata": {},
   "source": [
    "<div class=\"alert alert-block alert-success\">\n",
    "\n",
    "\n",
    "### ACTION 18\n",
    "\n",
    "**Create a map of the mean temperature**"
   ]
  },
  {
   "cell_type": "code",
   "execution_count": 143,
   "metadata": {
    "scrolled": true
   },
   "outputs": [
    {
     "name": "stderr",
     "output_type": "stream",
     "text": [
      "/srv/conda/lib/python3.7/site-packages/xarray/core/nanops.py:159: RuntimeWarning: Mean of empty slice\n",
      "  return np.nanmean(a, axis=axis, dtype=dtype)\n"
     ]
    },
    {
     "data": {
      "image/png": "[encoded data removed]",
      "text/plain": [
       "<Figure size 432x288 with 2 Axes>"
      ]
     },
     "metadata": {},
     "output_type": "display_data"
    }
   ],
   "source": [
    "# TO BE CHANGED, VERO SAID IT'S COMPLETELY USELESS\n",
    "thetao_mean = ds.thetao.mean(dim = \"time\")\n",
    "thetao_mean.plot();"
   ]
  },
  {
   "cell_type": "markdown",
   "metadata": {},
   "source": [
    "We'll go further with the usage of `xarray` and `matplotlib` in a [dedicated training](https://atlas.mercator-ocean.fr/s/n96TPr4cJsQNeKA)."
   ]
  },
  {
   "cell_type": "code",
   "execution_count": 144,
   "metadata": {},
   "outputs": [],
   "source": [
    "ds.close()"
   ]
  },
  {
   "cell_type": "markdown",
   "metadata": {},
   "source": [
    "# How to learn how these marine data are used ? How to get inspired?\n",
    "----"
   ]
  },
  {
   "cell_type": "markdown",
   "metadata": {},
   "source": [
    "On the Copernicus Marine Website, there are two websections on which you can find useful information and answers to the above questions, such as:\n",
    "- [Use Cases Presentation](http://marine.copernicus.eu/markets/use-cases/)\n",
    "- [Downstream Service Demonstration](http://marine.copernicus.eu/markets/use-case-demos/)\n"
   ]
  },
  {
   "cell_type": "markdown",
   "metadata": {
    "nbpresent": {
     "id": "47152d9c-f7c0-435a-8dc7-17ab76f0ddc9"
    }
   },
   "source": [
    "# Sometimes you just need a little help\n",
    "--- "
   ]
  },
  {
   "cell_type": "markdown",
   "metadata": {},
   "source": [
    "The Copernicus Marine Support Service is available and free of charge, as described below. By executing the cell, you'll see a `SUBMIT TICKET` button. Feel free to use to raise your questions."
   ]
  },
  {
   "cell_type": "code",
   "execution_count": 123,
   "metadata": {
    "slideshow": {
     "slide_type": "skip"
    }
   },
   "outputs": [
    {
     "data": {
      "text/html": [
       "<p style=\"text-align: center;\"><a class=\"typeform-share button\" href=\"https://marinecopernicus.typeform.com/to/dezUKa\" target=\"_blank\" data-mode=\"1\">Submit a ticket</a> <script>(function(){var qs,js,q,s,d=document,gi=d.getElementById,ce=d.createElement,gt=d.getElementsByTagName,id='typef_orm',b='https://s3-eu-west-1.amazonaws.com/share.typeform.com/';if(!gi.call(d,id)){js=ce.call(d,'script');js.id=id;js.src=b+'share.js';q=gt.call(d,'script')[0];q.parentNode.insertBefore(js,q)}id=id+'_';if(!gi.call(d,id)){qs=ce.call(d,'link');qs.rel='stylesheet';qs.id=id;qs.href=b+'share-button.css';s=gt.call(d,'head')[0];s.appendChild(qs,s)}})()</script></p>\n"
      ],
      "text/plain": [
       "<IPython.core.display.HTML object>"
      ]
     },
     "metadata": {},
     "output_type": "display_data"
    }
   ],
   "source": [
    "%%HTML\n",
    "<p style=\"text-align: center;\"><a class=\"typeform-share button\" href=\"https://marinecopernicus.typeform.com/to/dezUKa\" target=\"_blank\" data-mode=\"1\">Submit a ticket</a> <script>(function(){var qs,js,q,s,d=document,gi=d.getElementById,ce=d.createElement,gt=d.getElementsByTagName,id='typef_orm',b='https://s3-eu-west-1.amazonaws.com/share.typeform.com/';if(!gi.call(d,id)){js=ce.call(d,'script');js.id=id;js.src=b+'share.js';q=gt.call(d,'script')[0];q.parentNode.insertBefore(js,q)}id=id+'_';if(!gi.call(d,id)){qs=ce.call(d,'link');qs.rel='stylesheet';qs.id=id;qs.href=b+'share-button.css';s=gt.call(d,'head')[0];s.appendChild(qs,s)}})()</script></p>"
   ]
  },
  {
   "cell_type": "markdown",
   "metadata": {},
   "source": [
    " \n",
    " \n",
    "##### Thanks for your attention and sharing."
   ]
  }
 ],
 "metadata": {
  "anaconda-cloud": {},
  "kernelspec": {
   "display_name": "Python 3",
   "language": "python",
   "name": "python3"
  },
  "language_info": {
   "codemirror_mode": {
    "name": "ipython",
    "version": 3
   },
   "file_extension": ".py",
   "mimetype": "text/x-python",
   "name": "python",
   "nbconvert_exporter": "python",
   "pygments_lexer": "ipython3",
   "version": "3.7.3"
  },
  "nbpresent": {
   "slides": {
    "07650707-a6e5-4cda-a61a-bfaeecf3463e": {
     "id": "07650707-a6e5-4cda-a61a-bfaeecf3463e",
     "prev": "0cc45c6e-02f4-49fa-82e3-7f9bf47e41d8",
     "regions": {
      "fc7dd2f3-86bb-4ad0-ae98-14270b763950": {
       "attrs": {
        "height": 1,
        "width": 1,
        "x": 0,
        "y": 0
       },
       "content": {
        "cell": "34b5bd47-5eb9-408c-85dd-0e2b7e24d603",
        "part": "whole"
       },
       "id": "fc7dd2f3-86bb-4ad0-ae98-14270b763950"
      }
     }
    },
    "0cc45c6e-02f4-49fa-82e3-7f9bf47e41d8": {
     "id": "0cc45c6e-02f4-49fa-82e3-7f9bf47e41d8",
     "prev": "bb2ef2fa-db27-420f-bd0a-fff634b776a9",
     "regions": {
      "9bfc2a32-d9bc-4b16-887e-510971a5c56e": {
       "attrs": {
        "height": 1,
        "width": 1,
        "x": 0,
        "y": 0
       },
       "content": {
        "cell": "ceba9f7d-7a54-4f35-b059-7668f8a15407",
        "part": "whole"
       },
       "id": "9bfc2a32-d9bc-4b16-887e-510971a5c56e"
      }
     }
    },
    "bb2ef2fa-db27-420f-bd0a-fff634b776a9": {
     "id": "bb2ef2fa-db27-420f-bd0a-fff634b776a9",
     "prev": null,
     "regions": {
      "28567736-9bac-41df-8a10-3e878cdf4371": {
       "attrs": {
        "height": 1,
        "width": 1,
        "x": 0.0011876484560570072,
        "y": 0.00844550013196094
       },
       "content": {
        "cell": "e650ae1c-561f-4795-a198-64414a1a70a2",
        "part": "whole"
       },
       "id": "28567736-9bac-41df-8a10-3e878cdf4371"
      }
     }
    }
   },
   "themes": {
    "default": "09b0ed37-512c-41d2-83b5-7416c33e1762",
    "theme": {}
   }
  }
 },
 "nbformat": 4,
 "nbformat_minor": 2
}
