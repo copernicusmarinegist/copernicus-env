{
 "cells": [
  {
   "cell_type": "code",
   "execution_count": 5,
   "metadata": {},
   "outputs": [],
   "source": [
    "import logging\n",
    "import sys\n",
    "try:\n",
    "    import xml.etree.cElementTree as ET\n",
    "except ImportError:\n",
    "    import xml.etree.ElementTree as ET\n",
    "from urllib.request import urlopen, urlretrieve, Request\n",
    "from datetime import timedelta, datetime\n",
    "from urllib.error import URLError, HTTPError\n",
    "import socket"
   ]
  },
  {
   "cell_type": "code",
   "execution_count": 24,
   "metadata": {},
   "outputs": [],
   "source": [
    "def getLastDate():\n",
    "    url = \"http://nrt.cmems-du.eu/thredds/wms/sv04-med-hcmr-wav-an-fc-h?service=WMS&version=1.3.0&request=GetCapabilities\"\n",
    "    BaseTag = \"{http://www.opengis.net/wms}\"\n",
    "    try:\n",
    "        root = ET.parse(urlopen(url)).getroot()\n",
    "    except:\n",
    "        logging.warning(\"Can't get Capabilities for last date\")\n",
    "        return\n",
    "\n",
    "    for elem in root.iter(BaseTag + 'Dimension'):\n",
    "        a = elem.text\n",
    "        table = a.split('/')\n",
    "        lastdateZ = table[len(table) - 2]\n",
    "        break\n",
    "\n",
    "    return lastdateZ\n"
   ]
  },
  {
   "cell_type": "code",
   "execution_count": 25,
   "metadata": {},
   "outputs": [],
   "source": [
    "check_date = getLastDate()"
   ]
  },
  {
   "cell_type": "code",
   "execution_count": 26,
   "metadata": {},
   "outputs": [
    {
     "name": "stdout",
     "output_type": "stream",
     "text": [
      "2019-04-20T11:00:00.000Z\n"
     ]
    }
   ],
   "source": [
    "print(check_date)"
   ]
  },
  {
   "cell_type": "code",
   "execution_count": null,
   "metadata": {},
   "outputs": [],
   "source": []
  }
 ],
 "metadata": {
  "kernelspec": {
   "display_name": "Python 3",
   "language": "python",
   "name": "python3"
  },
  "language_info": {
   "codemirror_mode": {
    "name": "ipython",
    "version": 3
   },
   "file_extension": ".py",
   "mimetype": "text/x-python",
   "name": "python",
   "nbconvert_exporter": "python",
   "pygments_lexer": "ipython3",
   "version": "3.6.3"
  }
 },
 "nbformat": 4,
 "nbformat_minor": 2
}
